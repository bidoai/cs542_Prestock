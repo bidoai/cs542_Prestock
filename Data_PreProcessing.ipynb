{
 "cells": [
  {
   "cell_type": "code",
   "execution_count": 100,
   "metadata": {
    "collapsed": true
   },
   "outputs": [],
   "source": [
    "from scipy import optimize\n",
    "import matplotlib.pyplot as plt\n",
    "import numpy as np\n",
    "%matplotlib inline\n",
    "import pandas as pd\n",
    "import pandas_datareader.data\n",
    "import matplotlib.pyplot as plt\n",
    "import mpld3\n",
    "mpld3.enable_notebook()\n",
    "from sklearn.model_selection import train_test_split\n",
    "import requests as requests\n",
    "import numpy as np\n",
    "import matplotlib.pyplot as plt\n",
    "from scipy import interpolate\n",
    "import json\n",
    "from collections import OrderedDict"
   ]
  },
  {
   "cell_type": "code",
   "execution_count": 101,
   "metadata": {
    "collapsed": true
   },
   "outputs": [],
   "source": [
    "# getting bitcoin data and labeling the data for "
   ]
  },
  {
   "cell_type": "code",
   "execution_count": 102,
   "metadata": {
    "collapsed": true,
    "scrolled": false
   },
   "outputs": [],
   "source": [
    "response = requests.get(\"https://api.coindesk.com/v1/bpi/historical/close.json?start=2010-07-19&end=2017-09-05\")\n",
    "if response.status_code == requests.codes.ok:\n",
    "   parsed_json = json.loads(response.text, object_pairs_hook=OrderedDict)\n",
    "#print(json.dumps(parsed_json, indent=4))\n",
    "date_price = (parsed_json[\"bpi\"])"
   ]
  },
  {
   "cell_type": "code",
   "execution_count": 103,
   "metadata": {
    "collapsed": true
   },
   "outputs": [],
   "source": [
    "df = pd.Series(date_price)\n"
   ]
  },
  {
   "cell_type": "code",
   "execution_count": 104,
   "metadata": {
    "collapsed": true
   },
   "outputs": [],
   "source": [
    "df.to_csv(\"bitcoin_data.csv\", sep=',')"
   ]
  },
  {
   "cell_type": "code",
   "execution_count": 105,
   "metadata": {
    "collapsed": true
   },
   "outputs": [],
   "source": [
    "\n",
    "df1 = pd.read_csv('bitcoin_data.csv')\n",
    "df1.columns = [\"Date\",\"price\"]\n",
    "new_df=df1\n"
   ]
  },
  {
   "cell_type": "code",
   "execution_count": 106,
   "metadata": {
    "collapsed": true
   },
   "outputs": [],
   "source": [
    "#accumulating training_sequences to feed onto our LSTM model\n",
    "\n",
    "max_1=0\n",
    "X_move_neg=[]\n",
    "X_move_pos=[]\n",
    "X=[]\n",
    "X_date=[]\n",
    "counter=0\n",
    "\n",
    "for i in range(new_df.shape[0]):\n",
    "    \n",
    "    \n",
    "    \n",
    "    \n",
    "    if i+2 < new_df.shape[0]:\n",
    "        \n",
    "      \n",
    "       \n",
    "        if (new_df.iloc[i,1]) < new_df.iloc[i+1,1]: #negative\n",
    "            \n",
    "             \n",
    "             X_move_neg = X_move_neg+[(new_df.iloc[i,0]),(new_df.iloc[i,1])]\n",
    "                \n",
    "            \n",
    "             if (new_df.iloc[i+1,1]) >= new_df.iloc[i+2,1]: \n",
    "               \n",
    "               X_move_neg = X_move_neg+[(new_df.iloc[i+1,0]),(new_df.iloc[i+1,1])]\n",
    "               X = X+[X_move_neg]\n",
    "              \n",
    "               \n",
    "               X_move_neg = []\n",
    "         \n",
    "       \n",
    "        elif (new_df.iloc[i,1]) >= new_df.iloc[i+1,1]  : #positive\n",
    "            \n",
    "           \n",
    "            X_move_pos = X_move_pos+[(new_df.iloc[i,0]),(new_df.iloc[i,1])] \n",
    "            \n",
    "            if (new_df.iloc[i+1,1]) < new_df.iloc[i+2,1]: \n",
    "             \n",
    "               X_move_pos = X_move_pos+[(new_df.iloc[i+1,0]),(new_df.iloc[i+1,1])]  \n",
    "               X = X+[X_move_pos]\n",
    "              \n",
    "                \n",
    "                 \n",
    "               X_move_pos = []\n",
    "             \n",
    "     \n",
    "\n",
    "  \n",
    "\n",
    "\n",
    "Dates = [[i[0],i[-2]] for i in X]\n",
    "#Dates= np.array(Dates)\n",
    "\n",
    "X = [item[1::2] for item in X]\n",
    "\n",
    "\n",
    "    \n"
   ]
  },
  {
   "cell_type": "code",
   "execution_count": 107,
   "metadata": {},
   "outputs": [],
   "source": []
  },
  {
   "cell_type": "code",
   "execution_count": 108,
   "metadata": {},
   "outputs": [
    {
     "data": {
      "text/plain": [
       "0       0\n",
       "1       1\n",
       "2       1\n",
       "3       0\n",
       "4       0\n",
       "5       0\n",
       "6       1\n",
       "7       1\n",
       "8       0\n",
       "9       0\n",
       "10      0\n",
       "11      0\n",
       "12      1\n",
       "13      0\n",
       "14      0\n",
       "15      0\n",
       "16      0\n",
       "17      0\n",
       "18      0\n",
       "19      0\n",
       "20      0\n",
       "21      0\n",
       "22      0\n",
       "23      0\n",
       "24      0\n",
       "25      0\n",
       "26      0\n",
       "27      0\n",
       "28      0\n",
       "29      0\n",
       "       ..\n",
       "1248    0\n",
       "1249    0\n",
       "1250    1\n",
       "1251    0\n",
       "1252    1\n",
       "1253    0\n",
       "1254    0\n",
       "1255    0\n",
       "1256    0\n",
       "1257    0\n",
       "1258    0\n",
       "1259    0\n",
       "1260    0\n",
       "1261    0\n",
       "1262    0\n",
       "1263    0\n",
       "1264    0\n",
       "1265    0\n",
       "1266    0\n",
       "1267    0\n",
       "1268    0\n",
       "1269    0\n",
       "1270    0\n",
       "1271    0\n",
       "1272    0\n",
       "1273    0\n",
       "1274    0\n",
       "1275    0\n",
       "1276    0\n",
       "1277    0\n",
       "Length: 1278, dtype: int64"
      ]
     },
     "execution_count": 108,
     "metadata": {},
     "output_type": "execute_result"
    }
   ],
   "source": [
    "#y_labels"
   ]
  },
  {
   "cell_type": "code",
   "execution_count": 109,
   "metadata": {},
   "outputs": [],
   "source": [
    "y_labels = pd.read_csv('y_labels.csv',header=None)\n",
    "y_labels = y_labels.drop(0, 1)"
   ]
  },
  {
   "cell_type": "code",
   "execution_count": 110,
   "metadata": {},
   "outputs": [],
   "source": [
    "y_labels = np.array(y_labels)\n"
   ]
  },
  {
   "cell_type": "code",
   "execution_count": 111,
   "metadata": {},
   "outputs": [],
   "source": [
    "y_labels =y_labels.tolist()\n"
   ]
  },
  {
   "cell_type": "code",
   "execution_count": null,
   "metadata": {},
   "outputs": [],
   "source": []
  },
  {
   "cell_type": "code",
   "execution_count": 112,
   "metadata": {},
   "outputs": [],
   "source": [
    "data_training = {'X' : pd.Series(X), 'Dates':pd.Series(Dates)}\n",
    "\n"
   ]
  },
  {
   "cell_type": "code",
   "execution_count": 113,
   "metadata": {
    "collapsed": true
   },
   "outputs": [],
   "source": [
    "data_training = pd.DataFrame(data_training)\n",
    "data_training.to_csv(\"data_training.csv\", sep=',')\n",
    "\n"
   ]
  },
  {
   "cell_type": "code",
   "execution_count": null,
   "metadata": {},
   "outputs": [],
   "source": []
  },
  {
   "cell_type": "code",
   "execution_count": 45,
   "metadata": {
    "collapsed": true
   },
   "outputs": [],
   "source": []
  },
  {
   "cell_type": "code",
   "execution_count": null,
   "metadata": {
    "collapsed": true
   },
   "outputs": [],
   "source": []
  },
  {
   "cell_type": "code",
   "execution_count": null,
   "metadata": {
    "collapsed": true
   },
   "outputs": [],
   "source": []
  },
  {
   "cell_type": "code",
   "execution_count": null,
   "metadata": {
    "collapsed": true
   },
   "outputs": [],
   "source": []
  }
 ],
 "metadata": {
  "kernelspec": {
   "display_name": "Python 3",
   "language": "python",
   "name": "python3"
  },
  "language_info": {
   "codemirror_mode": {
    "name": "ipython",
    "version": 3
   },
   "file_extension": ".py",
   "mimetype": "text/x-python",
   "name": "python",
   "nbconvert_exporter": "python",
   "pygments_lexer": "ipython3",
   "version": "3.5.4"
  }
 },
 "nbformat": 4,
 "nbformat_minor": 2
}
