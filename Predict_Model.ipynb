{
 "cells": [
  {
   "cell_type": "code",
   "execution_count": 57,
   "metadata": {},
   "outputs": [],
   "source": [
    "from keras.models import load_model\n",
    "import json\n",
    "from collections import OrderedDict\n",
    "import requests as requests\n",
    "import pandas as pd\n",
    "import keras\n",
    "import numpy as np\n",
    "\n",
    "model = load_model('LSTM_Model.h5py')"
   ]
  },
  {
   "cell_type": "code",
   "execution_count": 58,
   "metadata": {},
   "outputs": [
    {
     "name": "stdout",
     "output_type": "stream",
     "text": [
      "insert the date you want to check if there's a newsworthy date. Format should be like YYYY-MM-DD:2011-12-20\n"
     ]
    }
   ],
   "source": [
    "start_date=input(\"insert the date you want to check if there's a newsworthy date. Format should be like YYYY-MM-DD:\")\n"
   ]
  },
  {
   "cell_type": "code",
   "execution_count": 59,
   "metadata": {},
   "outputs": [
    {
     "name": "stdout",
     "output_type": "stream",
     "text": [
      "insert the date you want to check if there's a newsworthy date. Format should be like YYYY-MM-DD:2017-12-02\n"
     ]
    }
   ],
   "source": [
    "end_date = input(\"insert the date you want to check if there's a newsworthy date. Format should be like YYYY-MM-DD:\")"
   ]
  },
  {
   "cell_type": "code",
   "execution_count": null,
   "metadata": {
    "collapsed": true
   },
   "outputs": [],
   "source": []
  },
  {
   "cell_type": "code",
   "execution_count": 60,
   "metadata": {
    "collapsed": true
   },
   "outputs": [],
   "source": [
    "response = requests.get(\"https://api.coindesk.com/v1/bpi/historical/close.json?start=\"+start_date+\"&end=\"+end_date)\n",
    "if response.status_code == requests.codes.ok:\n",
    "   parsed_json = json.loads(response.text, object_pairs_hook=OrderedDict)\n",
    "#print(json.dumps(parsed_json, indent=4))\n",
    "date_price = (parsed_json[\"bpi\"])\n",
    "df = pd.Series(date_price)\n",
    "\n",
    "#call preprocessing from preprocessing"
   ]
  },
  {
   "cell_type": "code",
   "execution_count": 61,
   "metadata": {},
   "outputs": [
    {
     "data": {
      "text/plain": [
       "2011-12-20        3.9500\n",
       "2011-12-21        3.8900\n",
       "2011-12-22        3.8901\n",
       "2011-12-23        3.9468\n",
       "2011-12-24        3.9400\n",
       "2011-12-25        4.2250\n",
       "2011-12-26        4.0180\n",
       "2011-12-27        4.0700\n",
       "2011-12-28        4.1855\n",
       "2011-12-29        4.1660\n",
       "2011-12-30        4.2480\n",
       "2011-12-31        4.7220\n",
       "2012-01-01        5.2677\n",
       "2012-01-02        5.2168\n",
       "2012-01-03        4.8808\n",
       "2012-01-04        5.5738\n",
       "2012-01-05        6.9476\n",
       "2012-01-06        6.6969\n",
       "2012-01-07        6.8100\n",
       "2012-01-08        7.1136\n",
       "2012-01-09        6.3257\n",
       "2012-01-10        6.3600\n",
       "2012-01-11        6.9000\n",
       "2012-01-12        6.8000\n",
       "2012-01-13        6.4100\n",
       "2012-01-14        6.7500\n",
       "2012-01-15        7.0018\n",
       "2012-01-16        6.6825\n",
       "2012-01-17        5.6000\n",
       "2012-01-18        5.9200\n",
       "                 ...    \n",
       "2017-11-03     7161.4513\n",
       "2017-11-04     7386.9988\n",
       "2017-11-05     7382.4488\n",
       "2017-11-06     6958.2113\n",
       "2017-11-07     7118.8013\n",
       "2017-11-08     7458.7950\n",
       "2017-11-09     7146.7813\n",
       "2017-11-10     6570.3125\n",
       "2017-11-11     6337.0000\n",
       "2017-11-12     5857.3175\n",
       "2017-11-13     6517.6763\n",
       "2017-11-14     6598.7688\n",
       "2017-11-15     7279.0013\n",
       "2017-11-16     7843.9375\n",
       "2017-11-17     7689.9088\n",
       "2017-11-18     7776.9400\n",
       "2017-11-19     8033.9363\n",
       "2017-11-20     8238.2025\n",
       "2017-11-21     8095.5938\n",
       "2017-11-22     8230.6925\n",
       "2017-11-23     8002.6413\n",
       "2017-11-24     8201.4613\n",
       "2017-11-25     8763.7850\n",
       "2017-11-26     9326.5888\n",
       "2017-11-27     9739.0550\n",
       "2017-11-28     9908.2288\n",
       "2017-11-29     9816.3475\n",
       "2017-11-30     9916.5363\n",
       "2017-12-01    10859.5625\n",
       "2017-12-02    10895.0138\n",
       "Length: 2175, dtype: float64"
      ]
     },
     "execution_count": 61,
     "metadata": {},
     "output_type": "execute_result"
    }
   ],
   "source": [
    "df"
   ]
  },
  {
   "cell_type": "code",
   "execution_count": 62,
   "metadata": {
    "collapsed": true
   },
   "outputs": [],
   "source": [
    "df.to_csv(\"bitcoin_data_predict.csv\", sep=',')\n",
    "df1 = pd.read_csv('bitcoin_data_predict.csv')\n",
    "df1.columns = [\"Date\",\"price\"]\n",
    "new_df=df1"
   ]
  },
  {
   "cell_type": "code",
   "execution_count": null,
   "metadata": {
    "collapsed": true
   },
   "outputs": [],
   "source": []
  },
  {
   "cell_type": "code",
   "execution_count": 63,
   "metadata": {
    "collapsed": true
   },
   "outputs": [],
   "source": [
    "max_1=237\n",
    "X_move_neg=[]\n",
    "X_move_pos=[]\n",
    "X=[]\n",
    "X_date=[]\n",
    "counter=0\n",
    "\n",
    "for i in range(new_df.shape[0]):\n",
    "    \n",
    "    \n",
    "    \n",
    "    \n",
    "    if i+2 < new_df.shape[0]:\n",
    "        \n",
    "      \n",
    "       \n",
    "        if (new_df.iloc[i,1]) < new_df.iloc[i+1,1]: #negative\n",
    "            \n",
    "             \n",
    "             X_move_neg = X_move_neg+[(new_df.iloc[i,0]),(new_df.iloc[i,1])]\n",
    "                \n",
    "            \n",
    "             if (new_df.iloc[i+1,1]) >= new_df.iloc[i+2,1]: \n",
    "               \n",
    "               X_move_neg = X_move_neg+[(new_df.iloc[i+1,0]),(new_df.iloc[i+1,1])]\n",
    "               X = X+[X_move_neg]\n",
    "              \n",
    "               \n",
    "               X_move_neg = []\n",
    "         \n",
    "       \n",
    "        elif (new_df.iloc[i,1]) >= new_df.iloc[i+1,1]  : #positive\n",
    "            \n",
    "           \n",
    "            X_move_pos = X_move_pos+[(new_df.iloc[i,0]),(new_df.iloc[i,1])] \n",
    "            \n",
    "            if (new_df.iloc[i+1,1]) < new_df.iloc[i+2,1]: \n",
    "             \n",
    "               X_move_pos = X_move_pos+[(new_df.iloc[i+1,0]),(new_df.iloc[i+1,1])]  \n",
    "               X = X+[X_move_pos]  \n",
    "               X_move_pos = []\n",
    "             \n",
    "     \n",
    "\n",
    "  \n",
    "\n",
    "\n",
    "Dates = [[i[0],i[-2]] for i in X]\n",
    "#Dates= np.array(Dates)\n",
    "\n",
    "X = [item[1::2] for item in X]\n",
    "\n"
   ]
  },
  {
   "cell_type": "code",
   "execution_count": 64,
   "metadata": {
    "collapsed": true
   },
   "outputs": [],
   "source": [
    "X_temp = X "
   ]
  },
  {
   "cell_type": "code",
   "execution_count": 65,
   "metadata": {
    "collapsed": true
   },
   "outputs": [],
   "source": [
    "X = keras.preprocessing.sequence.pad_sequences(X, maxlen=max_1,dtype=\"float32\")\n",
    "X = X.reshape(X.shape[0],1,X.shape[1])\n"
   ]
  },
  {
   "cell_type": "code",
   "execution_count": null,
   "metadata": {
    "collapsed": true
   },
   "outputs": [],
   "source": []
  },
  {
   "cell_type": "code",
   "execution_count": 66,
   "metadata": {},
   "outputs": [
    {
     "name": "stdout",
     "output_type": "stream",
     "text": [
      "1062/1062 [==============================] - 0s 367us/step\n"
     ]
    }
   ],
   "source": [
    "#getting all the news worthy dates\n",
    "my_predict = model.predict_classes(X)\n"
   ]
  },
  {
   "cell_type": "code",
   "execution_count": 67,
   "metadata": {},
   "outputs": [
    {
     "name": "stdout",
     "output_type": "stream",
     "text": [
      "All the news worthy dates and their rate of change\n",
      "['2012-01-03', '2012-01-05'] 21.1727585642\n",
      "['2012-08-18', '2012-08-19'] 31.0938845823\n",
      "['2012-08-19', '2012-08-20'] 26.25\n",
      "['2013-02-13', '2013-02-14'] 12.4814049587\n",
      "['2013-04-04', '2013-04-09'] 14.816833182\n",
      "['2013-04-09', '2013-04-16'] 10.0400186335\n",
      "['2013-04-16', '2013-04-20'] 21.3075866387\n",
      "['2013-06-30', '2013-07-01'] 13.2325915291\n",
      "['2013-07-02', '2013-07-03'] 12.2821888241\n",
      "['2013-07-04', '2013-07-05'] 14.6038488769\n",
      "['2013-07-09', '2013-07-11'] 11.4482990906\n",
      "['2013-10-01', '2013-10-02'] 20.4634013792\n",
      "['2013-10-02', '2013-10-04'] 10.7605684602\n",
      "['2013-11-15', '2013-11-18'] 21.6056016179\n",
      "['2013-11-18', '2013-11-19'] 19.6553469811\n",
      "['2013-11-19', '2013-11-23'] 10.8371612864\n",
      "['2013-11-30', '2013-12-01'] 15.8112761701\n",
      "['2013-12-04', '2013-12-07'] 13.1554150374\n",
      "['2013-12-07', '2013-12-10'] 14.1847364183\n",
      "['2013-12-15', '2013-12-18'] 13.5400004154\n",
      "['2013-12-18', '2013-12-19'] 33.7441175209\n",
      "['2014-01-06', '2014-01-07'] 14.7997895703\n",
      "['2015-01-12', '2015-01-14'] 16.8124429728\n",
      "['2015-01-14', '2015-01-15'] 18.718520754\n",
      "['2016-01-19', '2016-01-20'] 10.8530887239\n",
      "['2017-01-04', '2017-01-06'] 10.3640241798\n",
      "['2017-01-10', '2017-01-11'] 14.2365459484\n",
      "['2017-07-19', '2017-07-20'] 25.4088227667\n",
      "['2017-09-14', '2017-09-15'] 14.272431067\n",
      "['2017-09-17', '2017-09-18'] 10.7421124024\n"
     ]
    }
   ],
   "source": [
    "index=0\n",
    "#outputing all the newsworthy Dates\n",
    "print(\"All the news worthy dates and their rate of change\")\n",
    "for i in (my_predict):\n",
    "    if i[0]==1:\n",
    "       \n",
    "        print(Dates[index],np.abs((X_temp[index][-1]-X_temp[index][0])*100/(X_temp[index][0]*(len(X_temp[index])-1))))\n",
    "    index = index+1 \n",
    "    "
   ]
  },
  {
   "cell_type": "code",
   "execution_count": null,
   "metadata": {},
   "outputs": [],
   "source": []
  },
  {
   "cell_type": "code",
   "execution_count": 73,
   "metadata": {},
   "outputs": [],
   "source": [
    "#finding the most significant newsworthy date among all the newsworthy date\n",
    "index=0\n",
    "sig = 0\n",
    "idx=0\n",
    "flag = False\n",
    "for i in (my_predict):\n",
    "    if i[0]==1:\n",
    "        if(np.abs((X_temp[index][-1]-X_temp[index][0])*100/(X_temp[index][0]*(len(X_temp[index])-1)))>sig):\n",
    "            sig = np.abs((X_temp[index][-1]-X_temp[index][0])*100/(X_temp[index][0]*(len(X_temp[index])-1)))\n",
    "            flag = True \n",
    "            idx = index\n",
    "    index = index+1 \n"
   ]
  },
  {
   "cell_type": "code",
   "execution_count": 74,
   "metadata": {},
   "outputs": [
    {
     "name": "stdout",
     "output_type": "stream",
     "text": [
      "Template\n",
      "Article Title:  Bitcoin rises drastically. Bitcoin increases 50%  from __date___ to __date____.  This change is rapid as bitcoin went from $_   to   $_ in just __ days.  At this rate, bitcoin is expected to be ___$8000__ by  tomorrow.  The highest bitcoin had reach this week is __________.\n"
     ]
    }
   ],
   "source": [
    "\n",
    "print(\"Template\")\n",
    "print(\"Article Title:  Bitcoin rises drastically. Bitcoin increases 50%  from __date___ to __date____.  This change is rapid as bitcoin went from $_   to   $_ in just __ days.  At this rate, bitcoin is expected to be ___$8000__ by  tomorrow.  The highest bitcoin had reach this week is __________.\" )"
   ]
  },
  {
   "cell_type": "code",
   "execution_count": 75,
   "metadata": {},
   "outputs": [],
   "source": [
    "\n",
    "#fill out the template\n",
    "if (flag):\n",
    " if((X_temp[idx][-1]-X_temp[idx][0]))<0:\n",
    "     first_term=\"falls\"\n",
    "     second_term=\"decreases\"\n",
    "     third_term= Dates[idx][0]\n",
    "     fourth_term = Dates[idx][-1]\n",
    "     fifth_term =  (-sig/((len(X_temp[idx])-1)*100)) * X_temp[idx][-1]+X_temp[idx][-1]\n",
    "                \n",
    " else:\n",
    "    first_term=\"rises\"    \n",
    "    second_term=\"increases\"\n",
    "    third_term= Dates[idx][0]\n",
    "    fourth_term = Dates[idx][-1]\n",
    "    fifth_term =  ((sig/(((len(X_temp[idx])-1)*100))) * X_temp[idx][-1])+X_temp[idx][-1]\n",
    "else:\n",
    "    print(\"No newsworthy dates\")\n",
    "    \n",
    "        "
   ]
  },
  {
   "cell_type": "code",
   "execution_count": 77,
   "metadata": {},
   "outputs": [
    {
     "name": "stdout",
     "output_type": "stream",
     "text": [
      "The most significant newsworthy sequence\n",
      "****------------------------------------***\n",
      "Article Title:  Bitcoin rises drastically. \n",
      "Bitcoin increases 33.7441175209% from 2013-12-18 to 2013-12-19. This change is rapid as bitcoin went from $522.2288 to 698.4503 just 1 days. At this rate, bitcoin is expected to be $934.136190057 by tomorrow.\n"
     ]
    }
   ],
   "source": [
    "print(\"The most significant newsworthy sequence\")\n",
    "print(\"****------------------------------------***\")\n",
    "print(\"Article Title:  Bitcoin \"+first_term+\" drastically. \\nBitcoin \" +second_term+\" \"+str(sig)+\"% from \"+third_term+\" to \"+fourth_term+\". This change is rapid as bitcoin went from $\"+str(X_temp[idx][0])+\" to \"+str(X_temp[idx][-1])+\" just \"+str(((len(X_temp[idx])-1)))+\" days.\" \n",
    "      +\" At this rate, bitcoin is expected to be $\"+str(fifth_term)+\" by tomorrow.\")  "
   ]
  },
  {
   "cell_type": "code",
   "execution_count": null,
   "metadata": {},
   "outputs": [],
   "source": []
  },
  {
   "cell_type": "code",
   "execution_count": null,
   "metadata": {},
   "outputs": [],
   "source": []
  },
  {
   "cell_type": "code",
   "execution_count": null,
   "metadata": {
    "collapsed": true
   },
   "outputs": [],
   "source": []
  }
 ],
 "metadata": {
  "kernelspec": {
   "display_name": "Python 3",
   "language": "python",
   "name": "python3"
  },
  "language_info": {
   "codemirror_mode": {
    "name": "ipython",
    "version": 3
   },
   "file_extension": ".py",
   "mimetype": "text/x-python",
   "name": "python",
   "nbconvert_exporter": "python",
   "pygments_lexer": "ipython3",
   "version": "3.5.4"
  }
 },
 "nbformat": 4,
 "nbformat_minor": 2
}
